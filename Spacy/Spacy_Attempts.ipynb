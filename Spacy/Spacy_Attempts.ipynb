{
  "nbformat": 4,
  "nbformat_minor": 0,
  "metadata": {
    "colab": {
      "provenance": [],
      "history_visible": true
    },
    "kernelspec": {
      "name": "python3",
      "display_name": "Python 3"
    },
    "language_info": {
      "name": "python"
    },
    "accelerator": "GPU",
    "gpuClass": "standard"
  },
  "cells": [
    {
      "cell_type": "code",
      "source": [
        "!pip install spacy-transformers"
      ],
      "metadata": {
        "colab": {
          "base_uri": "https://localhost:8080/"
        },
        "id": "lNY2Q84WkkwN",
        "outputId": "89aaa597-d687-47b4-ad84-6ec4fc2008bb"
      },
      "execution_count": 1,
      "outputs": [
        {
          "output_type": "stream",
          "name": "stdout",
          "text": [
            "Looking in indexes: https://pypi.org/simple, https://us-python.pkg.dev/colab-wheels/public/simple/\n",
            "Collecting spacy-transformers\n",
            "  Downloading spacy_transformers-1.1.8-py2.py3-none-any.whl (53 kB)\n",
            "\u001b[K     |████████████████████████████████| 53 kB 1.7 MB/s \n",
            "\u001b[?25hCollecting spacy-alignments<1.0.0,>=0.7.2\n",
            "  Downloading spacy_alignments-0.8.6-cp37-cp37m-manylinux_2_17_x86_64.manylinux2014_x86_64.whl (1.1 MB)\n",
            "\u001b[K     |████████████████████████████████| 1.1 MB 29.6 MB/s \n",
            "\u001b[?25hRequirement already satisfied: srsly<3.0.0,>=2.4.0 in /usr/local/lib/python3.7/dist-packages (from spacy-transformers) (2.4.5)\n",
            "Collecting transformers<4.22.0,>=3.4.0\n",
            "  Downloading transformers-4.21.3-py3-none-any.whl (4.7 MB)\n",
            "\u001b[K     |████████████████████████████████| 4.7 MB 55.0 MB/s \n",
            "\u001b[?25hRequirement already satisfied: torch>=1.6.0 in /usr/local/lib/python3.7/dist-packages (from spacy-transformers) (1.12.1+cu113)\n",
            "Requirement already satisfied: spacy<4.0.0,>=3.4.0 in /usr/local/lib/python3.7/dist-packages (from spacy-transformers) (3.4.2)\n",
            "Requirement already satisfied: tqdm<5.0.0,>=4.38.0 in /usr/local/lib/python3.7/dist-packages (from spacy<4.0.0,>=3.4.0->spacy-transformers) (4.64.1)\n",
            "Requirement already satisfied: thinc<8.2.0,>=8.1.0 in /usr/local/lib/python3.7/dist-packages (from spacy<4.0.0,>=3.4.0->spacy-transformers) (8.1.5)\n",
            "Requirement already satisfied: wasabi<1.1.0,>=0.9.1 in /usr/local/lib/python3.7/dist-packages (from spacy<4.0.0,>=3.4.0->spacy-transformers) (0.10.1)\n",
            "Requirement already satisfied: numpy>=1.15.0 in /usr/local/lib/python3.7/dist-packages (from spacy<4.0.0,>=3.4.0->spacy-transformers) (1.21.6)\n",
            "Requirement already satisfied: setuptools in /usr/local/lib/python3.7/dist-packages (from spacy<4.0.0,>=3.4.0->spacy-transformers) (57.4.0)\n",
            "Requirement already satisfied: pathy>=0.3.5 in /usr/local/lib/python3.7/dist-packages (from spacy<4.0.0,>=3.4.0->spacy-transformers) (0.6.2)\n",
            "Requirement already satisfied: typing-extensions<4.2.0,>=3.7.4 in /usr/local/lib/python3.7/dist-packages (from spacy<4.0.0,>=3.4.0->spacy-transformers) (4.1.1)\n",
            "Requirement already satisfied: cymem<2.1.0,>=2.0.2 in /usr/local/lib/python3.7/dist-packages (from spacy<4.0.0,>=3.4.0->spacy-transformers) (2.0.7)\n",
            "Requirement already satisfied: typer<0.5.0,>=0.3.0 in /usr/local/lib/python3.7/dist-packages (from spacy<4.0.0,>=3.4.0->spacy-transformers) (0.4.2)\n",
            "Requirement already satisfied: jinja2 in /usr/local/lib/python3.7/dist-packages (from spacy<4.0.0,>=3.4.0->spacy-transformers) (2.11.3)\n",
            "Requirement already satisfied: requests<3.0.0,>=2.13.0 in /usr/local/lib/python3.7/dist-packages (from spacy<4.0.0,>=3.4.0->spacy-transformers) (2.23.0)\n",
            "Requirement already satisfied: langcodes<4.0.0,>=3.2.0 in /usr/local/lib/python3.7/dist-packages (from spacy<4.0.0,>=3.4.0->spacy-transformers) (3.3.0)\n",
            "Requirement already satisfied: spacy-loggers<2.0.0,>=1.0.0 in /usr/local/lib/python3.7/dist-packages (from spacy<4.0.0,>=3.4.0->spacy-transformers) (1.0.3)\n",
            "Requirement already satisfied: catalogue<2.1.0,>=2.0.6 in /usr/local/lib/python3.7/dist-packages (from spacy<4.0.0,>=3.4.0->spacy-transformers) (2.0.8)\n",
            "Requirement already satisfied: spacy-legacy<3.1.0,>=3.0.10 in /usr/local/lib/python3.7/dist-packages (from spacy<4.0.0,>=3.4.0->spacy-transformers) (3.0.10)\n",
            "Requirement already satisfied: packaging>=20.0 in /usr/local/lib/python3.7/dist-packages (from spacy<4.0.0,>=3.4.0->spacy-transformers) (21.3)\n",
            "Requirement already satisfied: murmurhash<1.1.0,>=0.28.0 in /usr/local/lib/python3.7/dist-packages (from spacy<4.0.0,>=3.4.0->spacy-transformers) (1.0.9)\n",
            "Requirement already satisfied: pydantic!=1.8,!=1.8.1,<1.11.0,>=1.7.4 in /usr/local/lib/python3.7/dist-packages (from spacy<4.0.0,>=3.4.0->spacy-transformers) (1.10.2)\n",
            "Requirement already satisfied: preshed<3.1.0,>=3.0.2 in /usr/local/lib/python3.7/dist-packages (from spacy<4.0.0,>=3.4.0->spacy-transformers) (3.0.8)\n",
            "Requirement already satisfied: zipp>=0.5 in /usr/local/lib/python3.7/dist-packages (from catalogue<2.1.0,>=2.0.6->spacy<4.0.0,>=3.4.0->spacy-transformers) (3.10.0)\n",
            "Requirement already satisfied: pyparsing!=3.0.5,>=2.0.2 in /usr/local/lib/python3.7/dist-packages (from packaging>=20.0->spacy<4.0.0,>=3.4.0->spacy-transformers) (3.0.9)\n",
            "Requirement already satisfied: smart-open<6.0.0,>=5.2.1 in /usr/local/lib/python3.7/dist-packages (from pathy>=0.3.5->spacy<4.0.0,>=3.4.0->spacy-transformers) (5.2.1)\n",
            "Requirement already satisfied: urllib3!=1.25.0,!=1.25.1,<1.26,>=1.21.1 in /usr/local/lib/python3.7/dist-packages (from requests<3.0.0,>=2.13.0->spacy<4.0.0,>=3.4.0->spacy-transformers) (1.24.3)\n",
            "Requirement already satisfied: idna<3,>=2.5 in /usr/local/lib/python3.7/dist-packages (from requests<3.0.0,>=2.13.0->spacy<4.0.0,>=3.4.0->spacy-transformers) (2.10)\n",
            "Requirement already satisfied: certifi>=2017.4.17 in /usr/local/lib/python3.7/dist-packages (from requests<3.0.0,>=2.13.0->spacy<4.0.0,>=3.4.0->spacy-transformers) (2022.9.24)\n",
            "Requirement already satisfied: chardet<4,>=3.0.2 in /usr/local/lib/python3.7/dist-packages (from requests<3.0.0,>=2.13.0->spacy<4.0.0,>=3.4.0->spacy-transformers) (3.0.4)\n",
            "Requirement already satisfied: blis<0.8.0,>=0.7.8 in /usr/local/lib/python3.7/dist-packages (from thinc<8.2.0,>=8.1.0->spacy<4.0.0,>=3.4.0->spacy-transformers) (0.7.9)\n",
            "Requirement already satisfied: confection<1.0.0,>=0.0.1 in /usr/local/lib/python3.7/dist-packages (from thinc<8.2.0,>=8.1.0->spacy<4.0.0,>=3.4.0->spacy-transformers) (0.0.3)\n",
            "Requirement already satisfied: regex!=2019.12.17 in /usr/local/lib/python3.7/dist-packages (from transformers<4.22.0,>=3.4.0->spacy-transformers) (2022.6.2)\n",
            "Requirement already satisfied: importlib-metadata in /usr/local/lib/python3.7/dist-packages (from transformers<4.22.0,>=3.4.0->spacy-transformers) (4.13.0)\n",
            "Requirement already satisfied: filelock in /usr/local/lib/python3.7/dist-packages (from transformers<4.22.0,>=3.4.0->spacy-transformers) (3.8.0)\n",
            "Requirement already satisfied: pyyaml>=5.1 in /usr/local/lib/python3.7/dist-packages (from transformers<4.22.0,>=3.4.0->spacy-transformers) (6.0)\n",
            "Collecting tokenizers!=0.11.3,<0.13,>=0.11.1\n",
            "  Downloading tokenizers-0.12.1-cp37-cp37m-manylinux_2_12_x86_64.manylinux2010_x86_64.whl (6.6 MB)\n",
            "\u001b[K     |████████████████████████████████| 6.6 MB 41.0 MB/s \n",
            "\u001b[?25hCollecting huggingface-hub<1.0,>=0.1.0\n",
            "  Downloading huggingface_hub-0.10.1-py3-none-any.whl (163 kB)\n",
            "\u001b[K     |████████████████████████████████| 163 kB 9.8 MB/s \n",
            "\u001b[?25hRequirement already satisfied: click<9.0.0,>=7.1.1 in /usr/local/lib/python3.7/dist-packages (from typer<0.5.0,>=0.3.0->spacy<4.0.0,>=3.4.0->spacy-transformers) (7.1.2)\n",
            "Requirement already satisfied: MarkupSafe>=0.23 in /usr/local/lib/python3.7/dist-packages (from jinja2->spacy<4.0.0,>=3.4.0->spacy-transformers) (2.0.1)\n",
            "Installing collected packages: tokenizers, huggingface-hub, transformers, spacy-alignments, spacy-transformers\n",
            "Successfully installed huggingface-hub-0.10.1 spacy-alignments-0.8.6 spacy-transformers-1.1.8 tokenizers-0.12.1 transformers-4.21.3\n"
          ]
        }
      ]
    },
    {
      "cell_type": "code",
      "execution_count": 2,
      "metadata": {
        "id": "vGM_pQfAfDl0"
      },
      "outputs": [],
      "source": [
        "import spacy\n",
        "from spacy.tokens import DocBin\n",
        "from tqdm import tqdm\n",
        "from spacy.util import filter_spans\n",
        "from spacy import displacy\n",
        "import spacy_transformers\n",
        "#spacy.require_gpu()"
      ]
    },
    {
      "cell_type": "code",
      "source": [
        "# annotations = [(text, label), (text, label)]\n",
        "def buildEntity(text, annotations):\n",
        "    entity = {}\n",
        "    entity['content'] = text\n",
        "    entity['annotations'] = []\n",
        "    for ent_text, ent_label in annotations:\n",
        "        curr = {}\n",
        "        curr['start'] = text.find(ent_text)\n",
        "        curr['end'] = curr['start'] + len(ent_text)\n",
        "        curr['tag_name'] = ent_label\n",
        "        entity['annotations'].append(curr)\n",
        "    return entity"
      ],
      "metadata": {
        "id": "8zqRLJCaXSrE"
      },
      "execution_count": 3,
      "outputs": []
    },
    {
      "cell_type": "code",
      "source": [
        "data = {\n",
        "    'examples': [\n",
        "        {\n",
        "            'content': \"HW 2 - Tuesday, September 27th\",\n",
        "            'annotations': [\n",
        "                {\n",
        "                    'start': 0,\n",
        "                    'end': 4,\n",
        "                    'tag_name': \"ASSIGNMENT\"\n",
        "                },\n",
        "                {\n",
        "                    'start': 16,\n",
        "                    'end': 30,\n",
        "                    'tag_name': \"DATE\"\n",
        "                }\n",
        "            ]\n",
        "        },\n",
        "        {\n",
        "            'content': \"Exam #1 - 10/11\",\n",
        "            'annotations': [\n",
        "                {\n",
        "                    'start': 0,\n",
        "                    'end': 7,\n",
        "                    'tag_name': \"ASSIGNMENT\"\n",
        "                },\n",
        "                {\n",
        "                    'start': 10,\n",
        "                    'end': 15,\n",
        "                    'tag_name': \"DATE\"\n",
        "                }\n",
        "            ]\n",
        "        },\n",
        "        {\n",
        "            'content': \"Reading Assignment 4: 3-16\",\n",
        "            'annotations': [\n",
        "                {\n",
        "                    'start': 0,\n",
        "                    'end': 20,\n",
        "                    'tag_name': \"ASSIGNMENT\"\n",
        "                },\n",
        "                {\n",
        "                    'start': 22,\n",
        "                    'end': 26,\n",
        "                    'tag_name': \"DATE\"\n",
        "                }\n",
        "            ]\n",
        "        },\n",
        "        {\n",
        "            'content': \"Reading Assignment 4- 03-5-22\",\n",
        "            'annotations': [\n",
        "                {\n",
        "                    'start': 0,\n",
        "                    'end': 20,\n",
        "                    'tag_name': \"ASSIGNMENT\"\n",
        "                },\n",
        "                {\n",
        "                    'start': 22,\n",
        "                    'end': 29,\n",
        "                    'tag_name': \"DATE\"\n",
        "                }\n",
        "            ]\n",
        "        },\n",
        "        {\n",
        "            'content': \"Exam 4 - 10/11/22\",\n",
        "            'annotations': [\n",
        "                {\n",
        "                    'start': 0,\n",
        "                    'end': 6,\n",
        "                    'tag_name': \"ASSIGNMENT\"\n",
        "                },\n",
        "                {\n",
        "                    'start': 9,\n",
        "                    'end': 17,\n",
        "                    'tag_name': \"DATE\"\n",
        "                }\n",
        "            ]\n",
        "        },\n",
        "        {\n",
        "            'content': \"We will have Exam 4 on March 3rd, 2022\",\n",
        "            'annotations': [\n",
        "                {\n",
        "                    'start': 13,\n",
        "                    'end': 19,\n",
        "                    'tag_name': \"ASSIGNMENT\"\n",
        "                },\n",
        "                {\n",
        "                    'start': 23,\n",
        "                    'end': 32,\n",
        "                    'tag_name': \"DATE\"\n",
        "                }\n",
        "            ]\n",
        "        },\n",
        "        {\n",
        "            'content': \"Week of September 9\",\n",
        "            'annotations': [\n",
        "                {\n",
        "                    'start': 8,\n",
        "                    'end': 19,\n",
        "                    'tag_name': \"DATE\"\n",
        "                }\n",
        "            ]\n",
        "        },\n",
        "        {\n",
        "            'content': \"office hours: w 1:00 - 2:00pm, th 2:30 - 3:30pm, or by appointment\",\n",
        "            'annotations': []\n",
        "        },\n",
        "        {\n",
        "            'content': \"time: t/th 1:15 - 2:30pm\",\n",
        "            'annotations': []\n",
        "        },\n",
        "        {\n",
        "            'content': \"prerequisite: one of math 2810, 2820, or 3641; and one of math 2410, 2501, or 2600.\",\n",
        "            'annotations': []\n",
        "        },\n",
        "        {\n",
        "            'content': \"HW 2 - Sep. 27\",\n",
        "            'annotations': [\n",
        "                {\n",
        "                    'start': 0,\n",
        "                    'end': 4,\n",
        "                    'tag_name': \"ASSIGNMENT\"\n",
        "                },\n",
        "                {\n",
        "                    'start': 7,\n",
        "                    'end':14,\n",
        "                    'tag_name': \"DATE\"\n",
        "                }\n",
        "            ]\n",
        "        },\n",
        "        {\n",
        "            'content': \"Final: May 5, 3:00pm\",\n",
        "            'annotations': [\n",
        "                {\n",
        "                    'start': 0,\n",
        "                    'end': 5,\n",
        "                    'tag_name': \"ASSIGNMENT\"\n",
        "                },\n",
        "                {\n",
        "                    'start': 7,\n",
        "                    'end': 12,\n",
        "                    'tag_name': \"DATE\"\n",
        "                }\n",
        "            ]\n",
        "        }\n",
        "    ]\n",
        "}\n",
        "\n",
        "training = [\n",
        "    ['Final: May 5, 3:00pm', [(\"Final\", \"ASSIGNMENT\"), (\"May 5\", \"DATE\")]],\n",
        "    ['7 th-9/15 5 quiz 2 , present worth analysis, industry applications  ', [(\"9/15\", \"DATE\"), (\"quiz 2\", \"ASSIGNMENT\")]],\n",
        "    ['6 tu-9/13 4 ch4 equivalence for repeated cash flows , cont’d  ', [('9/13', \"DATE\")]],\n",
        "    ['9/8 ch4 equivalence for repeated cash flows', [('9/8', \"DATE\")]],\n",
        "    ['tu-9/6 quiz 1, problem  session : ch1,2&3', [('9/6', \"DATE\"), ('quiz 1', 'ASSIGNMENT')]],\n",
        "    ['tu-9/27  exam 1', [('9/27', 'DATE'), ('exam 1', \"ASSIGNMENT\")]],\n",
        "    ['11 th-9/29 6 annual cash flow analysis', [('9/29', \"DATE\")]],\n",
        "    ['15 tu-10/18 9 quiz 3, other analysis techniques', [('10/18', \"DATE\"), ('quiz 3', 'ASSIGNMENT')]],\n",
        "    ['18 th-10/27  review for exam 2', [('10/27', \"DATE\")]],\n",
        "    ['19 tu-11/1 exam 2', [('11/1', \"DATE\"), ('exam 2', \"ASSIGNMENT\")]]\n",
        "]\n",
        "for train in training:\n",
        "  data['examples'].append(buildEntity(train[0], train[1]))\n",
        "print(data['examples'])"
      ],
      "metadata": {
        "colab": {
          "base_uri": "https://localhost:8080/"
        },
        "id": "77YPT5cyhSu7",
        "outputId": "65df2277-578e-4f4d-cfe8-b346f946a9c5"
      },
      "execution_count": 4,
      "outputs": [
        {
          "output_type": "stream",
          "name": "stdout",
          "text": [
            "[{'content': 'HW 2 - Tuesday, September 27th', 'annotations': [{'start': 0, 'end': 4, 'tag_name': 'ASSIGNMENT'}, {'start': 16, 'end': 30, 'tag_name': 'DATE'}]}, {'content': 'Exam #1 - 10/11', 'annotations': [{'start': 0, 'end': 7, 'tag_name': 'ASSIGNMENT'}, {'start': 10, 'end': 15, 'tag_name': 'DATE'}]}, {'content': 'Reading Assignment 4: 3-16', 'annotations': [{'start': 0, 'end': 20, 'tag_name': 'ASSIGNMENT'}, {'start': 22, 'end': 26, 'tag_name': 'DATE'}]}, {'content': 'Reading Assignment 4- 03-5-22', 'annotations': [{'start': 0, 'end': 20, 'tag_name': 'ASSIGNMENT'}, {'start': 22, 'end': 29, 'tag_name': 'DATE'}]}, {'content': 'Exam 4 - 10/11/22', 'annotations': [{'start': 0, 'end': 6, 'tag_name': 'ASSIGNMENT'}, {'start': 9, 'end': 17, 'tag_name': 'DATE'}]}, {'content': 'We will have Exam 4 on March 3rd, 2022', 'annotations': [{'start': 13, 'end': 19, 'tag_name': 'ASSIGNMENT'}, {'start': 23, 'end': 32, 'tag_name': 'DATE'}]}, {'content': 'Week of September 9', 'annotations': [{'start': 8, 'end': 19, 'tag_name': 'DATE'}]}, {'content': 'office hours: w 1:00 - 2:00pm, th 2:30 - 3:30pm, or by appointment', 'annotations': []}, {'content': 'time: t/th 1:15 - 2:30pm', 'annotations': []}, {'content': 'prerequisite: one of math 2810, 2820, or 3641; and one of math 2410, 2501, or 2600.', 'annotations': []}, {'content': 'HW 2 - Sep. 27', 'annotations': [{'start': 0, 'end': 4, 'tag_name': 'ASSIGNMENT'}, {'start': 7, 'end': 14, 'tag_name': 'DATE'}]}, {'content': 'Final: May 5, 3:00pm', 'annotations': [{'start': 0, 'end': 5, 'tag_name': 'ASSIGNMENT'}, {'start': 7, 'end': 12, 'tag_name': 'DATE'}]}, {'content': 'Final: May 5, 3:00pm', 'annotations': [{'start': 0, 'end': 5, 'tag_name': 'ASSIGNMENT'}, {'start': 7, 'end': 12, 'tag_name': 'DATE'}]}, {'content': '7 th-9/15 5 quiz 2 , present worth analysis, industry applications  ', 'annotations': [{'start': 5, 'end': 9, 'tag_name': 'DATE'}, {'start': 12, 'end': 18, 'tag_name': 'ASSIGNMENT'}]}, {'content': '6 tu-9/13 4 ch4 equivalence for repeated cash flows , cont’d  ', 'annotations': [{'start': 5, 'end': 9, 'tag_name': 'DATE'}]}, {'content': '9/8 ch4 equivalence for repeated cash flows', 'annotations': [{'start': 0, 'end': 3, 'tag_name': 'DATE'}]}, {'content': 'tu-9/6 quiz 1, problem  session : ch1,2&3', 'annotations': [{'start': 3, 'end': 6, 'tag_name': 'DATE'}, {'start': 7, 'end': 13, 'tag_name': 'ASSIGNMENT'}]}, {'content': 'tu-9/27  exam 1', 'annotations': [{'start': 3, 'end': 7, 'tag_name': 'DATE'}, {'start': 9, 'end': 15, 'tag_name': 'ASSIGNMENT'}]}, {'content': '11 th-9/29 6 annual cash flow analysis', 'annotations': [{'start': 6, 'end': 10, 'tag_name': 'DATE'}]}, {'content': '15 tu-10/18 9 quiz 3, other analysis techniques', 'annotations': [{'start': 6, 'end': 11, 'tag_name': 'DATE'}, {'start': 14, 'end': 20, 'tag_name': 'ASSIGNMENT'}]}, {'content': '18 th-10/27  review for exam 2', 'annotations': [{'start': 6, 'end': 11, 'tag_name': 'DATE'}]}, {'content': '19 tu-11/1 exam 2', 'annotations': [{'start': 6, 'end': 10, 'tag_name': 'DATE'}, {'start': 11, 'end': 17, 'tag_name': 'ASSIGNMENT'}]}]\n"
          ]
        }
      ]
    },
    {
      "cell_type": "code",
      "source": [
        "training_data = {'classes': ['ASSIGNMENT', \"DATE\"], 'annotations': []}\n",
        "for example in data['examples']:\n",
        "    temp_dict = {}\n",
        "    temp_dict['text'] = example['content']\n",
        "    temp_dict['entities'] = []\n",
        "    for annotation in example['annotations']:\n",
        "        start = annotation['start']\n",
        "        end = annotation['end']\n",
        "        label = annotation['tag_name'].upper()\n",
        "        temp_dict['entities'].append((start, end, label))\n",
        "    training_data['annotations'].append(temp_dict)\n",
        "\n",
        "print(training_data['annotations'])"
      ],
      "metadata": {
        "colab": {
          "base_uri": "https://localhost:8080/"
        },
        "id": "zu9tUCSKhYfV",
        "outputId": "f5ea9763-7a39-4661-ff56-1c34685c88e0"
      },
      "execution_count": 5,
      "outputs": [
        {
          "output_type": "stream",
          "name": "stdout",
          "text": [
            "[{'text': 'HW 2 - Tuesday, September 27th', 'entities': [(0, 4, 'ASSIGNMENT'), (16, 30, 'DATE')]}, {'text': 'Exam #1 - 10/11', 'entities': [(0, 7, 'ASSIGNMENT'), (10, 15, 'DATE')]}, {'text': 'Reading Assignment 4: 3-16', 'entities': [(0, 20, 'ASSIGNMENT'), (22, 26, 'DATE')]}, {'text': 'Reading Assignment 4- 03-5-22', 'entities': [(0, 20, 'ASSIGNMENT'), (22, 29, 'DATE')]}, {'text': 'Exam 4 - 10/11/22', 'entities': [(0, 6, 'ASSIGNMENT'), (9, 17, 'DATE')]}, {'text': 'We will have Exam 4 on March 3rd, 2022', 'entities': [(13, 19, 'ASSIGNMENT'), (23, 32, 'DATE')]}, {'text': 'Week of September 9', 'entities': [(8, 19, 'DATE')]}, {'text': 'office hours: w 1:00 - 2:00pm, th 2:30 - 3:30pm, or by appointment', 'entities': []}, {'text': 'time: t/th 1:15 - 2:30pm', 'entities': []}, {'text': 'prerequisite: one of math 2810, 2820, or 3641; and one of math 2410, 2501, or 2600.', 'entities': []}, {'text': 'HW 2 - Sep. 27', 'entities': [(0, 4, 'ASSIGNMENT'), (7, 14, 'DATE')]}, {'text': 'Final: May 5, 3:00pm', 'entities': [(0, 5, 'ASSIGNMENT'), (7, 12, 'DATE')]}, {'text': 'Final: May 5, 3:00pm', 'entities': [(0, 5, 'ASSIGNMENT'), (7, 12, 'DATE')]}, {'text': '7 th-9/15 5 quiz 2 , present worth analysis, industry applications  ', 'entities': [(5, 9, 'DATE'), (12, 18, 'ASSIGNMENT')]}, {'text': '6 tu-9/13 4 ch4 equivalence for repeated cash flows , cont’d  ', 'entities': [(5, 9, 'DATE')]}, {'text': '9/8 ch4 equivalence for repeated cash flows', 'entities': [(0, 3, 'DATE')]}, {'text': 'tu-9/6 quiz 1, problem  session : ch1,2&3', 'entities': [(3, 6, 'DATE'), (7, 13, 'ASSIGNMENT')]}, {'text': 'tu-9/27  exam 1', 'entities': [(3, 7, 'DATE'), (9, 15, 'ASSIGNMENT')]}, {'text': '11 th-9/29 6 annual cash flow analysis', 'entities': [(6, 10, 'DATE')]}, {'text': '15 tu-10/18 9 quiz 3, other analysis techniques', 'entities': [(6, 11, 'DATE'), (14, 20, 'ASSIGNMENT')]}, {'text': '18 th-10/27  review for exam 2', 'entities': [(6, 11, 'DATE')]}, {'text': '19 tu-11/1 exam 2', 'entities': [(6, 10, 'DATE'), (11, 17, 'ASSIGNMENT')]}]\n"
          ]
        }
      ]
    },
    {
      "cell_type": "code",
      "source": [
        "nlp = spacy.blank(\"en\") # load a new spacy model\n",
        "doc_bin = DocBin() # create a DocBin object\n",
        "\n",
        "# Text to vectors to Spacy documents\n",
        "for training_example in tqdm(training_data['annotations']):\n",
        "    text = training_example['text']\n",
        "    labels = training_example['entities']\n",
        "    doc = nlp.make_doc(text)\n",
        "    ents = []\n",
        "    for start, end, label in labels:\n",
        "        span = doc.char_span(start, end, label=label, alignment_mode=\"contract\")\n",
        "        if span is None:\n",
        "            # Weird issue with th-9/12 input (we only want 9/12 here)\n",
        "            new_text = text.replace(\"-\", \" \")\n",
        "            new_doc = nlp.make_doc(new_text)\n",
        "            span = new_doc.char_span(start, end, label=label, alignment_mode=\"contract\")\n",
        "            if span is None:\n",
        "              print(\"Skipping entity:\" + str(label))\n",
        "            else:\n",
        "              print(span)\n",
        "            ents.append(span)\n",
        "        else:\n",
        "            print(span)\n",
        "            ents.append(span)\n",
        "    filtered_ents = filter_spans(ents)\n",
        "    doc.ents = filtered_ents\n",
        "    doc_bin.add(doc)\n",
        "doc_bin.to_disk(\"training_data.spacy\") # save the docbin object"
      ],
      "metadata": {
        "colab": {
          "base_uri": "https://localhost:8080/"
        },
        "id": "LJU3O44ihcGD",
        "outputId": "127c2c4f-c821-4a80-82a8-c805808e7108"
      },
      "execution_count": 10,
      "outputs": [
        {
          "output_type": "stream",
          "name": "stderr",
          "text": [
            "100%|██████████| 22/22 [00:00<00:00, 1431.77it/s]"
          ]
        },
        {
          "output_type": "stream",
          "name": "stdout",
          "text": [
            "HW 2\n",
            "September 27th\n",
            "Exam #1\n",
            "10/11\n",
            "Reading Assignment 4\n",
            "3-16\n",
            "Reading Assignment\n",
            "03-5-22\n",
            "Exam 4\n",
            "10/11/22\n",
            "Exam 4\n",
            "March 3rd\n",
            "September 9\n",
            "HW 2\n",
            "Sep. 27\n",
            "Final\n",
            "May 5\n",
            "Final\n",
            "May 5\n",
            "9/15\n",
            "quiz 2\n",
            "9/13\n",
            "9/8\n",
            "9/6\n",
            "quiz 1\n",
            "9/27\n",
            "exam 1\n",
            "9/29\n",
            "10/18\n",
            "quiz 3\n",
            "10/27\n",
            "11/1\n",
            "exam 2\n"
          ]
        },
        {
          "output_type": "stream",
          "name": "stderr",
          "text": [
            "\n"
          ]
        }
      ]
    },
    {
      "cell_type": "code",
      "source": [
        "!python -m spacy init fill-config base_config.cfg config.cfg   "
      ],
      "metadata": {
        "colab": {
          "base_uri": "https://localhost:8080/"
        },
        "id": "nvsFjOTIiIDW",
        "outputId": "79d08ab1-eead-42f0-936f-a404c8d6d21d"
      },
      "execution_count": 11,
      "outputs": [
        {
          "output_type": "stream",
          "name": "stdout",
          "text": [
            "2022-11-03 14:54:34.452738: E tensorflow/stream_executor/cuda/cuda_driver.cc:271] failed call to cuInit: CUDA_ERROR_NO_DEVICE: no CUDA-capable device is detected\n",
            "\u001b[38;5;2m✔ Auto-filled config with all values\u001b[0m\n",
            "\u001b[38;5;2m✔ Saved config\u001b[0m\n",
            "config.cfg\n",
            "You can now add your data and train your pipeline:\n",
            "python -m spacy train config.cfg --paths.train ./train.spacy --paths.dev ./dev.spacy\n"
          ]
        }
      ]
    },
    {
      "cell_type": "code",
      "source": [
        "!python3 -m spacy train config.cfg --output ./ --paths.train ./training_data.spacy --paths.dev ./training_data.spacy --gpu-id 0\n"
      ],
      "metadata": {
        "colab": {
          "base_uri": "https://localhost:8080/"
        },
        "id": "C7jjZ7TEkxYs",
        "outputId": "690cc441-c9e0-4d56-ea25-c06d520336e4"
      },
      "execution_count": 151,
      "outputs": [
        {
          "output_type": "stream",
          "name": "stdout",
          "text": [
            "\u001b[38;5;4mℹ Saving to output directory: .\u001b[0m\n",
            "\u001b[38;5;4mℹ Using GPU: 0\u001b[0m\n",
            "\u001b[1m\n",
            "=========================== Initializing pipeline ===========================\u001b[0m\n",
            "[2022-11-02 20:32:19,646] [INFO] Set up nlp object from config\n",
            "INFO:spacy:Set up nlp object from config\n",
            "[2022-11-02 20:32:19,657] [INFO] Pipeline: ['transformer', 'ner']\n",
            "INFO:spacy:Pipeline: ['transformer', 'ner']\n",
            "[2022-11-02 20:32:19,661] [INFO] Created vocabulary\n",
            "INFO:spacy:Created vocabulary\n",
            "[2022-11-02 20:32:19,662] [INFO] Finished initializing nlp object\n",
            "INFO:spacy:Finished initializing nlp object\n",
            "Some weights of the model checkpoint at roberta-base were not used when initializing RobertaModel: ['lm_head.layer_norm.bias', 'lm_head.layer_norm.weight', 'lm_head.dense.bias', 'lm_head.decoder.weight', 'lm_head.bias', 'lm_head.dense.weight']\n",
            "- This IS expected if you are initializing RobertaModel from the checkpoint of a model trained on another task or with another architecture (e.g. initializing a BertForSequenceClassification model from a BertForPreTraining model).\n",
            "- This IS NOT expected if you are initializing RobertaModel from the checkpoint of a model that you expect to be exactly identical (initializing a BertForSequenceClassification model from a BertForSequenceClassification model).\n",
            "[2022-11-02 20:32:37,411] [INFO] Initialized pipeline components: ['transformer', 'ner']\n",
            "INFO:spacy:Initialized pipeline components: ['transformer', 'ner']\n",
            "\u001b[38;5;2m✔ Initialized pipeline\u001b[0m\n",
            "\u001b[1m\n",
            "============================= Training pipeline =============================\u001b[0m\n",
            "\u001b[38;5;4mℹ Pipeline: ['transformer', 'ner']\u001b[0m\n",
            "\u001b[38;5;4mℹ Initial learn rate: 0.0\u001b[0m\n",
            "E    #       LOSS TRANS...  LOSS NER  ENTS_F  ENTS_P  ENTS_R  SCORE \n",
            "---  ------  -------------  --------  ------  ------  ------  ------\n",
            "  0       0         236.65     64.48    0.00    0.00    0.00    0.00\n",
            "200     200        4457.17   2591.98  100.00  100.00  100.00    1.00\n",
            "400     400           0.00      0.00  100.00  100.00  100.00    1.00\n",
            "600     600           0.00      0.00  100.00  100.00  100.00    1.00\n",
            "800     800           0.00      0.00  100.00  100.00  100.00    1.00\n",
            "1000    1000           0.00      0.00  100.00  100.00  100.00    1.00\n",
            "1200    1200           0.00      0.00  100.00  100.00  100.00    1.00\n",
            "1400    1400           0.00      0.00  100.00  100.00  100.00    1.00\n",
            "1600    1600           0.00      0.00  100.00  100.00  100.00    1.00\n",
            "1800    1800           0.00      0.00  100.00  100.00  100.00    1.00\n",
            "\u001b[38;5;2m✔ Saved pipeline to output directory\u001b[0m\n",
            "model-last\n"
          ]
        }
      ]
    },
    {
      "cell_type": "code",
      "source": [
        "nlp_ner = spacy.load(\"model-best\")"
      ],
      "metadata": {
        "id": "N3PF5xECoEau"
      },
      "execution_count": 152,
      "outputs": []
    },
    {
      "cell_type": "code",
      "source": [
        "doc = nlp_ner(\"Quiz 3: August 24\")"
      ],
      "metadata": {
        "id": "RUAAuCNNoE3a"
      },
      "execution_count": 179,
      "outputs": []
    },
    {
      "cell_type": "code",
      "source": [
        "colors = {\"ASSIGNMENT\": \"#F67DE3\", \"DATE\": \"#7DF6D9\"}\n",
        "options = {\"colors\": colors} \n",
        "spacy.displacy.render(doc, style=\"ent\", options= options, jupyter=True)"
      ],
      "metadata": {
        "colab": {
          "base_uri": "https://localhost:8080/",
          "height": 52
        },
        "id": "oF0rMs8Soppp",
        "outputId": "f3d8e25c-40d0-495c-bdd7-9c02186a762e"
      },
      "execution_count": 180,
      "outputs": [
        {
          "output_type": "display_data",
          "data": {
            "text/plain": [
              "<IPython.core.display.HTML object>"
            ],
            "text/html": [
              "<span class=\"tex2jax_ignore\"><div class=\"entities\" style=\"line-height: 2.5; direction: ltr\">\n",
              "<mark class=\"entity\" style=\"background: #F67DE3; padding: 0.45em 0.6em; margin: 0 0.25em; line-height: 1; border-radius: 0.35em;\">\n",
              "    Quiz 3\n",
              "    <span style=\"font-size: 0.8em; font-weight: bold; line-height: 1; border-radius: 0.35em; vertical-align: middle; margin-left: 0.5rem\">ASSIGNMENT</span>\n",
              "</mark>\n",
              ": \n",
              "<mark class=\"entity\" style=\"background: #7DF6D9; padding: 0.45em 0.6em; margin: 0 0.25em; line-height: 1; border-radius: 0.35em;\">\n",
              "    August 24\n",
              "    <span style=\"font-size: 0.8em; font-weight: bold; line-height: 1; border-radius: 0.35em; vertical-align: middle; margin-left: 0.5rem\">DATE</span>\n",
              "</mark>\n",
              ". 2501</div></span>"
            ]
          },
          "metadata": {}
        }
      ]
    },
    {
      "cell_type": "code",
      "source": [
        "!zip -r model-best.zip model-best"
      ],
      "metadata": {
        "colab": {
          "base_uri": "https://localhost:8080/"
        },
        "id": "X02fVQbFxzPP",
        "outputId": "1cd72a58-b2e7-4419-b843-8b696f883b1b"
      },
      "execution_count": 159,
      "outputs": [
        {
          "output_type": "stream",
          "name": "stdout",
          "text": [
            "  adding: model-best/ (stored 0%)\n",
            "  adding: model-best/tokenizer (deflated 81%)\n",
            "  adding: model-best/transformer/ (stored 0%)\n",
            "  adding: model-best/transformer/cfg (stored 0%)\n",
            "  adding: model-best/transformer/model (deflated 16%)\n",
            "  adding: model-best/config.cfg (deflated 61%)\n",
            "  adding: model-best/vocab/ (stored 0%)\n",
            "  adding: model-best/vocab/strings.json (deflated 74%)\n",
            "  adding: model-best/vocab/lookups.bin (stored 0%)\n",
            "  adding: model-best/vocab/vectors (deflated 45%)\n",
            "  adding: model-best/vocab/key2row (stored 0%)\n",
            "  adding: model-best/vocab/vectors.cfg (stored 0%)\n",
            "  adding: model-best/ner/ (stored 0%)\n",
            "  adding: model-best/ner/cfg (deflated 33%)\n",
            "  adding: model-best/ner/model (deflated 8%)\n",
            "  adding: model-best/ner/moves (deflated 53%)\n",
            "  adding: model-best/meta.json (deflated 61%)\n"
          ]
        }
      ]
    },
    {
      "cell_type": "code",
      "source": [
        "from google.colab import files\n",
        "files.download(\"model-best.zip\")"
      ],
      "metadata": {
        "id": "fywtRnjoxstj"
      },
      "execution_count": null,
      "outputs": []
    },
    {
      "cell_type": "code",
      "source": [
        "!cp model-best.zip drive/MyDrive/Vanderbilt"
      ],
      "metadata": {
        "id": "_E5ybrEi8YKc"
      },
      "execution_count": 160,
      "outputs": []
    }
  ]
}